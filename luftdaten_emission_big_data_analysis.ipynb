{
 "cells": [
  {
   "cell_type": "markdown",
   "metadata": {},
   "source": [
    "<div style=\"    text-align: center;\n",
    "    font-size: 20pt;\n",
    "    line-height: 34px;\n",
    "    font-weight: bold;\">\n",
    "\n",
    "Big Data Analysis<br/> \n",
    "Potential value of the data of the citizen science project luftdaten.info around fine dust emissions and it's trend\n",
    "\n",
    "</div>\n",
    "\n",
    "<br/>\n",
    "<br/>\n",
    "<br/>\n",
    "<br/>\n",
    "\n",
    "\n",
    "\n",
    "<div style=\"text-align: right\">Research by Martin Andreas Wörz, 20 Mai 2018</div>\n",
    "\n"
   ]
  },
  {
   "cell_type": "markdown",
   "metadata": {},
   "source": [
    "## 1. Motivation\n",
    "\n",
    "Editors note of the online magazine Spiegel presented alarming headlines:\n",
    "\n",
    "Around the \"Neckartor\" in Stuttgart the EU safety limit for fine dust exceeded on 63 days about 42 per cent above the EU safety limit value of 35 micrograms per cubic meter with alarming 50 mg/m3. That's basically more than 2 months of the year (17,2%) that the values are way above the limit. (1)\n",
    "\n",
    "The important problem with this exceeding value is, that the health of the population is affected, weather we want it or not. Fine dust attacks lungs, bronchi or mucous membranes. Moreover, it represents the potential of nitrous gases. (2)\n",
    "\n",
    "Those nitrous gases are provoking headache, dizziness, shortness of breath and in the long run more damage to our health. Extreme values of those gases can even cause strokes.\n",
    "\n",
    "Since Spiegel's meaning that politics seem not to act accordingly the motivation for this research could provide some insight of causes of high fine dust emissions. Hence, the results may provide potentials for new actions.\n",
    "\n",
    "\n",
    "(1) [In diesen Städten ist die Luft am schlechtesten, Accessed at 13.5.2018](http://www.spiegel.de/wissenschaft/mensch/luftverschmutzung-2016-zahlreiche-staedte-ueberschreiten-grenzwert-a-1132445.html)\n",
    "\n",
    "(2) [Feinstaub, NOX, CO2 - was ist eigentlich was?, Accessed at 13.5.2018](http://www.deutschlandfunk.de/luftverschmutzung-feinstaub-nox-co2-was-ist-eigentlich-was.1773.de.html?dram:article_id=391466)\n"
   ]
  },
  {
   "cell_type": "markdown",
   "metadata": {},
   "source": [
    "## 2. Approach\n",
    "\n",
    "The OK Lab Stuttgart is part of the Program Code for Germany and the Open Knowledge Foundation Germany. It's programmes goal is to support development in the field of Open Data Citizen Science. With its project luftdaten.info from they devote their work to measure and collect data around fine dust.\n",
    "\n",
    "They also provide their data (measures of PM10 and PM2,5 values) on a virtual geo-map at http://deutschland.maps.luftdaten.info/.\n",
    "\n",
    "<img src=\"assets/luftdaten/images/luftdaten_maps_deutschland.png\" style=\"height: 400px; width: auto; align: left\"> (1)"
   ]
  },
  {
   "cell_type": "markdown",
   "metadata": {},
   "source": [
    "## 3. Goal\n",
    "\n",
    "The initial goal of this analysis is to understand the collected and provided (big) data of the luftdaten.info project and evaluate potentials for further research usages. To define a scope the research will be limited to the area around Stuttgart."
   ]
  },
  {
   "cell_type": "markdown",
   "metadata": {},
   "source": [
    "## 4. Targets\n",
    "\n",
    "In order to complete this analysis the following answers must be given:\n",
    "\n",
    "1. Analyze the available data and check a potential usage. Moreover the unique locations, the data points, etc.\n",
    "2. Check how many locations around Stuttgart and a radius of 20km from the center of Stuttgart are available.\n",
    "3. Check what data is generally provided.\n",
    "4. Check the quality of the data. Moreover, how many measurements and locations are constantly provided to exclude data inconsistency.\n",
    "5. Check for anomalies in the values and find at least 3 events\n",
    "\n",
    "The questions are ordered in priority. If some of those questions can not be answered, at least a reason why should be stated."
   ]
  },
  {
   "cell_type": "markdown",
   "metadata": {},
   "source": [
    "### 4.1 Initial Analysis\n",
    "\n",
    "Volunteers around the globe have the option to buy and install a personal sensor and provide their data of fine dust  and weather conditions around the world. (1)\n",
    "\n",
    "The data archive provides since the 1st of October in 2015. On the 9th Mai of 2018 the count is stating 5398177 measurements per day (3). From a small analysis on the existing files on that index, 9567 unique locations around the globe could be identified.\n",
    "\n",
    "The next step is to investigate the data of one an exemplary date.\n",
    "\n",
    "(1) [Luftdaten selber messen, Accessed at 9.5.2018](https://luftdaten.info/)\n",
    "\n",
    "(2) [Data archive: Index of /](http://archive.luftdaten.info/)\n",
    "\n",
    "(3) [Measurements 2018-05-09](http://archive.luftdaten.info/2018-05-09/measurements.txt)"
   ]
  },
  {
   "cell_type": "markdown",
   "metadata": {},
   "source": [
    "## 4.1.1 Analysis of the data from 9th of Mai 2018\n",
    "\n",
    "In order to get a better insight the listed files of the directory http://archive.luftdaten.info/2018-05-09/ is being analyzed using python.\n",
    "\n",
    "When checking the multiple filenames, a naming pattern/structure can be recognized to store the measurements per location. Opening the file: '2018-05-09_bme280_sensor_113.csv' the following data structure can be found:\n",
    "\n",
    "\n",
    "#### Data structure of file '2018-05-09_bme280_sensor_113.csv'\n",
    "|sensor_id|sensor_type|location|lat|lon|timestamp|pressure|altitude|pressure_sealevel|temperature|humidity|\n",
    "|---|---|---|---|---|---|---|---|---|---|---|\n",
    "|113|\tBME280|\t3093|\t48.809|\t9.181|\t2018-05-09T00:02:13|97215.77|\t|\t|\t15.70|\t57.08|\n",
    "|113|\tBME280|\t3093|\t48.809|\t9.181|\t2018-05-09T00:04:41|97217.53|\t|\t|\t15.68|  57.29|\n",
    "\n",
    "\n",
    "#### Recognized Naming Format\n",
    "Since the sensor_id 113 and the sensor_type 'BME280' appears in the filename '2018-05-09_bme280_sensor_113.csv' we can identify the following naming structure of the filenames:\n",
    "\n",
    "```\n",
    "# 2018-05-09_bme280_sensor_113.csv \n",
    "\n",
    "# recognized naming format:\n",
    "# YYYY-MM-DD_%sensor_type%_%data_type%_%sensor_id%\n",
    "\n",
    "# YYYY-MM-DD -> is a date format of Year-Month-Day\n",
    "```\n",
    "\n",
    "This naming format could help to identify how many sensors are collecting data. The first glimpse of the data structure of the csv file combining the file naming format could help to map sensor_id to locations.\n",
    "\n",
    "#### First assumption: \n",
    "\n",
    "Since the file with the id 113 and the used sensor 'BME280' does not contain any values about fine dust, the information must be included in other measurements. This assumption will be cross-referenced with the next steps.\n"
   ]
  },
  {
   "cell_type": "markdown",
   "metadata": {},
   "source": [
    "### 4.1.1.1 Fetching the first data\n",
    "\n",
    "1. **The first step is to provide a list of all data items on that day. Therefor the following script was created:**"
   ]
  },
  {
   "cell_type": "code",
   "execution_count": null,
   "metadata": {},
   "outputs": [],
   "source": [
    "import glob\n",
    "import os\n",
    "from datetime import datetime\n",
    "from time import time\n",
    "import urllib.request\n",
    "import pandas as pd\n",
    "from bs4 import BeautifulSoup\n",
    "from elasticsearch import Elasticsearch\n",
    "from elasticsearch.helpers import bulk\n",
    "\n",
    "# define the initial values\n",
    "target_url = \"http://archive.luftdaten.info/\"\n",
    "data_directory = 'data/luftdaten'\n",
    "\n",
    "def fetch_links(resource_url, only_directories=False):\n",
    "    \"\"\"\n",
    "        fetches all links on an HTML document\n",
    "    :param resource_url: str url of the HTML document\n",
    "    :return: list of urls\n",
    "    \"\"\"\n",
    "    urls = []\n",
    "    \n",
    "    try:\n",
    "        resp = urllib.request.urlopen(resource_url)\n",
    "        \n",
    "        soup = BeautifulSoup(resp, \"html5lib\", from_encoding=resp.info().get_param('charset'))\n",
    "        \n",
    "        for link in soup.find_all('a', href=True):\n",
    "            if not only_directories or link['href'][-1] == '/':\n",
    "                urls.append(link['href'])\n",
    "    \n",
    "    except Exception as e:\n",
    "        print(\"Error occurred in fetching the data from: {}. Details:\\n  {}\".format(resource_url, e))\n",
    "    \n",
    "    return urls     "
   ]
  },
  {
   "cell_type": "code",
   "execution_count": 142,
   "metadata": {},
   "outputs": [],
   "source": [
    "def prepare_data_directory():\n",
    "    \"\"\"\n",
    "        create the target directory\n",
    "    \"\"\"\n",
    "    if not os.path.exists(data_directory):\n",
    "        os.makedirs(data_directory)"
   ]
  },
  {
   "cell_type": "code",
   "execution_count": 143,
   "metadata": {},
   "outputs": [],
   "source": [
    "def download_resources(resource_url, last_days=0):\n",
    "    \"\"\"\n",
    "        downloads all csv files\n",
    "    :param resource_url: string\n",
    "    :param last_days: int the amount of days back the files should be fetched\n",
    "\n",
    "    \"\"\"\n",
    "    # create the data directories\n",
    "    prepare_data_directory()\n",
    "\n",
    "    # get all directories where are the .csv files stored (the directories are in the format: YYYY-MM-DD)\n",
    "    date_directory_urls = fetch_links(target_url, True)\n",
    "\n",
    "    # order by the newest to get the newest items first\n",
    "    date_directory_urls.reverse()\n",
    "\n",
    "    message = '{} directories of tracked days found'.format(len(date_directory_urls))\n",
    "    print(message)\n",
    "    \n",
    "    if 0 < last_days < len(date_directory_urls):\n",
    "        message = 'Only download files from the last {} days.'.format(last_days)\n",
    "        print('  ' + message)\n",
    "        date_directory_urls = date_directory_urls[:last_days]\n",
    "\n",
    "    if date_directory_urls and len(date_directory_urls) > 0:\n",
    "        \n",
    "        for date_directory_url in date_directory_urls:\n",
    "            \n",
    "            # get the 2nd last value (2018-05-09)\n",
    "            date_url_absolute = resource_url + date_directory_url\n",
    "\n",
    "            # fetch the sub directory of the date 2018-05-09\n",
    "            message = \"Fetch the directory structure of the day {}\".format(date_directory_url[:-1])\n",
    "            print('  ' + message)\n",
    "            \n",
    "            file_urls = fetch_links(date_url_absolute)\n",
    "\n",
    "            # generate a pandas DataFrame with all urls of that day\n",
    "            df_file_urls = pd.DataFrame({'url': file_urls})\n",
    "\n",
    "            message = \"{} unique measurements found for the day\".format(len(df_file_urls))\n",
    "            print('  ' + message)\n",
    "            # > resulting 9573 items\n",
    "\n",
    "            # todo continue analysis here\n"
   ]
  },
  {
   "cell_type": "code",
   "execution_count": 144,
   "metadata": {},
   "outputs": [
    {
     "name": "stdout",
     "output_type": "stream",
     "text": [
      "948 directories of tracked days found\n",
      "  Only download files from the last 1 days.\n",
      "  Fetch the directory structure of the day 2018-05-16\n",
      "  9758 unique measurements found for the day\n"
     ]
    }
   ],
   "source": [
    "# fetch the url of the last directory\n",
    "download_resources(target_url, last_days=1)"
   ]
  },
  {
   "cell_type": "markdown",
   "metadata": {},
   "source": [
    "2. **The next step is to resolve the format of the urls and fetch the id, date and sensor type from the urls.**\n",
    "\n",
    "Here the following script was being used:"
   ]
  },
  {
   "cell_type": "code",
   "execution_count": null,
   "metadata": {},
   "outputs": [],
   "source": [
    "def fetch_measurements(date_url_absolute):\n",
    "    \"\"\"\n",
    "        method to fetch the urls of a date directory in the luftdaten archive\n",
    "        it prints the amount of measurements per sensor type\n",
    "    \"\"\"\n",
    "    date_str = date_url_absolute[-11:-1]\n",
    "    \n",
    "    # fetch the sub directory of the date 2018-05-09\n",
    "    message = \"Fetch the directory structure of the day {}\".format(date_str)\n",
    "    print('  ' + message)\n",
    "    file_urls = fetch_links(date_url_absolute)\n",
    "\n",
    "    if file_urls is None or len(file_urls) == 0:\n",
    "        print(\"No data found for day: {}\".format(date_str))\n",
    "        return\n",
    "        \n",
    "    # write the data into a pandas DataFrame\n",
    "    df_file_urls = pd.DataFrame({'url': file_urls})\n",
    "\n",
    "    # extract the date, the sensor type, file type and location id\n",
    "    df_file_urls = df_file_urls['url'].str.extract('(?P<url>(?P<date>[^_]+)_(?P<sensor>[^_]+)_(?P<type>[^_]+)_(?P<id>[^_.]+).*)', expand=True)\n",
    "\n",
    "    # parse the date\n",
    "    df_file_urls['date'] = pd.to_datetime(df_file_urls['date'], format=\"%Y-%m-%d\", errors=\"ignore\")\n",
    "\n",
    "    sensor_counts = df_file_urls[['id', 'sensor']].groupby(['sensor']).size().sort_values(ascending=False).to_dict()   \n",
    "\n",
    "    # print the sensor type and the measurements\n",
    "    print(\"Sensor Type: Mesurements\")\n",
    "    print(\"\\n\".join([\"{} {}\".format(key.rjust(12), str(item).rjust(11)) for key, item in sensor_counts.items()]))"
   ]
  },
  {
   "cell_type": "code",
   "execution_count": 146,
   "metadata": {},
   "outputs": [
    {
     "name": "stdout",
     "output_type": "stream",
     "text": [
      "  Fetch the directory structure of the day 2018-05-09\n",
      "Sensor Type: Mesurements\n",
      "      sds011        4990\n",
      "       dht22        3603\n",
      "      bme280         889\n",
      "      bmp180          57\n",
      "         hpm           7\n",
      "     ppd42ns           6\n",
      "     pms3003           6\n",
      "     pms7003           5\n",
      "     pms5003           2\n",
      "      bmp280           2\n"
     ]
    }
   ],
   "source": [
    "fetch_measurements('http://archive.luftdaten.info/2018-05-09/')"
   ]
  },
  {
   "cell_type": "markdown",
   "metadata": {},
   "source": [
    "After investigating the column: 'sensor' it clearly states that there are multiple kinds of sensor being used. Now let's get the count of which sensor type is being used the most:\n",
    "\n",
    "    \n",
    "#### First result\n",
    "This shows that the sensor types: **sds011** and **dht22** are being used most of the times.\n",
    "\n",
    "\n",
    "To check the availability of the data let's perform the same steps on the data provided one year before:\n",
    "\n",
    "## 4.1.2 Analysis of the data from 9th of Mai 2015, 9th of Mai 2016 and 9th of Mai 2017\n",
    "\n",
    "The same steps as in 4.1.1 have been performed and the result was for the following dates:"
   ]
  },
  {
   "cell_type": "code",
   "execution_count": 147,
   "metadata": {},
   "outputs": [
    {
     "name": "stdout",
     "output_type": "stream",
     "text": [
      "  Fetch the directory structure of the day 2017-05-09\n",
      "Sensor Type: Mesurements\n",
      "      sds011         865\n",
      "       dht22         734\n",
      "      bme280          47\n",
      "     ppd42ns          11\n",
      "      bmp180           6\n"
     ]
    }
   ],
   "source": [
    "investigating#### Results for 09-05-2017\n",
    "\n",
    "fetch_measurements('http://archive.luftdaten.info/2017-05-09/')"
   ]
  },
  {
   "cell_type": "code",
   "execution_count": 126,
   "metadata": {},
   "outputs": [
    {
     "name": "stdout",
     "output_type": "stream",
     "text": [
      "  Fetch the directory structure of the day 2016-05-09\n",
      "Sensor Type: Mesurements\n",
      "     ppd42ns          12\n",
      "       dht22           4\n"
     ]
    }
   ],
   "source": [
    "#### Results for 09-05-2016\n",
    "\n",
    "fetch_measurements('http://archive.luftdaten.info/2016-05-09/')"
   ]
  },
  {
   "cell_type": "code",
   "execution_count": 139,
   "metadata": {},
   "outputs": [
    {
     "name": "stdout",
     "output_type": "stream",
     "text": [
      "  Fetch the directory structure of the day 2015-05-09\n",
      "Error occurred in fetching the data from: http://archive.luftdaten.info/2015-05-09/. Details:\n",
      "  HTTP Error 404: Not Found\n",
      "No data found for day: 2015-05-09\n"
     ]
    }
   ],
   "source": [
    "#### Results for 09-05-2015\n",
    "\n",
    "fetch_measurements('http://archive.luftdaten.info/2015-05-09/')"
   ]
  },
  {
   "cell_type": "markdown",
   "metadata": {},
   "source": [
    "---\n",
    "\n",
    "### INTERMEDIATE DATA ANALYSIS RESULTS\n",
    "\n",
    "- **After this insight, we can see that the data in on 09-05-2016 is very limited.**\n",
    "- **On the other hand in 2017 the sensors by the types sds011 and dht22 where exceeding over 700 measurements per day.**\n",
    "\n",
    "---"
   ]
  },
  {
   "cell_type": "markdown",
   "metadata": {},
   "source": [
    "## 4.1.3 Further Analysis of the data from 9th of Mai 2018\n",
    "\n",
    "The next step to gain insights of the differences of the certain available sensor types, the following information could be extracted by opening for each sensor type the .csv files.\n",
    "\n",
    "For the 2018-05-16 the following unique locations with the following sensor values could be identified:\n",
    "\n",
    "| Sensor Type   | Locations | Available values                          |\n",
    "| ----          | ---       | ---                                       |\n",
    "| sds011        |      5094 | P1, P2                                    |\n",
    "| dht22         |      3672 | temperature, humidity                     |\n",
    "| bme280        |       913 | temperature, pressure                     |\n",
    "| bmp180        |        58 | temperature, pressure                     |\n",
    "| pms3003       |         7 | P1, P2                                    |\n",
    "| hpm           |         7 | P1, P2 |                                  |\n",
    "| ppd42ns       |         6 | P1, P2, durP1, ratioP1, durP2, ratioP2    |\n",
    "| pms7003       |         5 | P1, P2                                    |\n",
    "| pms5003       |         3 | P1, P2                                    |\n",
    "| bmp280        |         2 | temperature, pressure                     |\n",
    "\n",
    "\n",
    "---\n",
    "\n",
    "### INTERMEDIATE DATA ANALYSIS RESULTS\n",
    "\n",
    "This provides the information, that we have the following values provided in general:\n",
    "\n",
    "- **P1, P2, temperature, pressure**\n",
    "\n",
    "\n",
    "To know what the values P1 and P2 represent the research has to be continued:\n",
    "\n",
    "---"
   ]
  },
  {
   "cell_type": "markdown",
   "metadata": {},
   "source": [
    "## 4.2 Definition fine dust\n",
    "\n",
    "Dusts are solid particles of the outside air, which do not sink immediately to the ground but stay in the atmosphere for a certain time. Depending on their size, dust particles are divided into different classes. \n",
    "\n",
    "### PM10 (P1)\n",
    "\n",
    "Particulate matter (PM10) refers to particles with an aerodynamic diameter of less than 10 μm. \n",
    "\n",
    "### PM2,5 (P2)\n",
    "Of these particles, one part has an aerodynamic diameter smaller than 2.5 μm (PM2.5). This includes the fraction of ultrafine particles (<0.1μm).\n",
    "\n",
    "[Source: Emission von Feinstaub der Partikelgröße PM2,5, Accessed at 13.5.2018](https://www.umweltbundesamt.de/daten/luft/luftschadstoff-emissionen-in-deutschland/emission-von-feinstaub-der-partikelgroesse-pm25#textpart-3)\n"
   ]
  },
  {
   "cell_type": "markdown",
   "metadata": {},
   "source": [
    "## 5. Data Research with ElasticSearch\n",
    "\n",
    "To make more sense out of the data, a python script was created to import the csv data into ElasticSearch. Together with Kibana, the data can be intensively and intuitively be analyzed.\n",
    "\n",
    "This script can be found here:\n",
    "\n",
    "<a href=\"luftdaten_index.py\">See script luftdaten_search_geo_data.py</a>\n",
    "\n",
    "\n",
    "### Strategy to answer research questions\n",
    "\n",
    "To answer the 1. and the 2. question of the potential usage of the data the following approach might help to get more insights:\n",
    "\n",
    "- **A.1. Analyze the data of one specific day. As previously noticed, in one day there are nearly 10k measurements. The analysis of one day can give a representative overview of the different available locations. **\n",
    "- **A.2 In which countries, regions cities are concentrations of multiple sources.**\n",
    "- **A.3 In case of reducing single points of failures, it's necessary to analyze the data of a certain region where not only a few sensors are active.**\n",
    "- **A.4 Analyse the available data and check a potential usage. Moreover the unique locations, the data points, etc. Check how many locations around Stuttgart and a radius of 20km from the center of Stuttgart are available.**\n",
    "- **A.5 Analyse the data over a period of time period on selected regions. (Preferably with areas with multiple sensors in a near area)**"
   ]
  },
  {
   "cell_type": "markdown",
   "metadata": {},
   "source": [
    "### 5.1. Analysis of the day 2018-05-07\n",
    "\n",
    "After indexing all data of all available csv files of the data 2018-05-07 the research can be started.\n",
    "\n",
    "To answer the question 1.1. A Dashboard with a Geo Map visualization was created. The first results of available locations around the world in one day shows this:\n",
    "\n",
    "### Result: Unique Geo Locations around the world \n",
    "\n",
    "<img src=\"assets/luftdaten/images/luftdaten_analysis-2018-05-07_amount_of_sensors_geo_world.png\" style=\"height: 800px; width=\"auto\">\n",
    "\n",
    "The visualization provides the information that there are 4,4 mio data points collected in a single day and there are unique locations all around the world. But the most sensors are found in Europe.\n",
    "\n",
    "The analysis will be continued in Europe:"
   ]
  },
  {
   "cell_type": "markdown",
   "metadata": {},
   "source": [
    "### Result: Unique Geo Locations around europe \n",
    "\n",
    "<img src=\"assets/luftdaten/images/luftdaten_analysis-2018-05-07_amount_of_sensors_geo_europe_not_selected.png\" style=\"height: 350px\">\n",
    "\n",
    "This results shows that there are areas in the following countries, to which might be interesting to be investigated more in detail:\n",
    "\n",
    "|Importance|Interesting regions|\n",
    "|---       | ---               |\n",
    "|1.        | Germany           |\n",
    "|2.        | Belgium           |\n",
    "|3.        | Bulgaria          |"
   ]
  },
  {
   "cell_type": "markdown",
   "metadata": {},
   "source": [
    "### Result: Geo areas/cells in Europe with more than 180 unique locations\n",
    "\n",
    "A zoom + the move over functionality of ElasticSearch helps to figure out the following information about the 6 locations:\n",
    "    \n",
    "<img src=\"assets/luftdaten/images/luftdaten_analysis-2018-05-07_amount_of_sensors_geo_europe_zoom2_not_selected.png\" style=\"height: 400px; width: auto\">\n",
    "\n",
    "|Prio|Area|Locations approx.|\n",
    "|---|---|---|\n",
    "|1.|Germany, Baden-Wuerttemberg|771|\n",
    "|2.|Germany, Western part of North Rhine-Westphalia|396|\n",
    "|3.|Bulgaria, Sofia|389|\n",
    "|4.|Germany, Eastern part of North Rhine-Westphalia|298|\n",
    "|5.|Germany, Bavaria, Munich|219|\n",
    "|6.|Germany, Hamburg|189|\n",
    "|7.|Germany, Berlin|185|\n",
    "|8.|Belgium|183|"
   ]
  },
  {
   "cell_type": "markdown",
   "metadata": {},
   "source": [
    "### Conclusion of results\n",
    "\n",
    "The most top 3 most valuable areas within Germany, where a research can performed further are:\n",
    "    \n",
    "|Prio|Area|Locations approx.|\n",
    "|---|---|---|\n",
    "|1.|Germany, Baden-Wuerttemberg|771|\n",
    "|2.|Germany, Western part of North Rhine-Westphalia|396|\n",
    "|3.|Germany, Eastern Nordrhein Westfalen, Köln area|298|"
   ]
  },
  {
   "cell_type": "markdown",
   "metadata": {},
   "source": [
    "### Result: Geo areas around Baden-Wuerttemberg\n",
    "\n",
    "But for the scope of this research the analysis the scope will be limited to the area of Stuttgart. In order to do that, the first area is researched more in detail.\n",
    "\n",
    "<img src=\"assets/luftdaten/images/luftdaten_analysis-2018-05-07_amount_of_sensors_geo_baden-wuerttemberg_not_selected.png\" style=\"height: 400px\">"
   ]
  },
  {
   "cell_type": "markdown",
   "metadata": {},
   "source": [
    "### Result: Geo areas around Stuttgart\n",
    "<img src=\"assets/luftdaten/images/luftdaten_analysis-2018-05-07_amount_of_sensors_geo_stuttgart_not_selected.png\" style=\"height: 400px; width: auto\">"
   ]
  },
  {
   "cell_type": "markdown",
   "metadata": {},
   "source": [
    "### Result: Geo areas around Stuttgart Zoom Level 1\n",
    "<img src=\"assets/luftdaten/images/luftdaten_analysis-2018-05-07_amount_of_sensors_geo_stuttgart_area_zoom2_not_selected.png\" style=\"height: 400px; width: auto\">"
   ]
  },
  {
   "cell_type": "markdown",
   "metadata": {},
   "source": [
    "### Result: Geo areas around Stuttgart Zoom Level 2\n",
    "<img src=\"assets/luftdaten/images/luftdaten_analysis-2018-05-07_amount_of_sensors_geo_stuttgart_area_zoom3_not_selected.png\" style=\"height: 400px; width: auto\">"
   ]
  },
  {
   "cell_type": "markdown",
   "metadata": {},
   "source": [
    "By the last step we can identify that there are the following collective areas, which could be used to investigate:\n",
    "\n",
    "|Importance|Interesting areas/cells|\n",
    "|---       | ---                   |\n",
    "|1.        | Stuttgart south/center, area along the city center  |\n",
    "|2.        | Stuttgart west, area around the street Bebelstraße  |\n",
    "|3.        | Stuttgart easth, area around the street Neckartor   |\n",
    "\n",
    "The most important part now it to create a geometric boundary to limit the areas. In that case the following areas have been created:"
   ]
  },
  {
   "cell_type": "markdown",
   "metadata": {},
   "source": [
    "### Result: 1. Geo Shape of area: Stuttgart south/center, area along the city center\n",
    "```\n",
    "{\n",
    "  \"geo_polygon\": {\n",
    "    \"ignore_unmapped\": true,\n",
    "    \"geo_location\": {\n",
    "      \"points\": [\n",
    "        {\n",
    "          \"lat\": 48.7645060889677,\n",
    "          \"lon\": 9.160966873168947\n",
    "        },\n",
    "        {\n",
    "          \"lat\": 48.769258228422665,\n",
    "          \"lon\": 9.174184799194338\n",
    "        },\n",
    "        {\n",
    "          \"lat\": 48.76546786777273,\n",
    "          \"lon\": 9.180965423583986\n",
    "        },\n",
    "        {\n",
    "          \"lat\": 48.75749020404446,\n",
    "          \"lon\": 9.168004989624025\n",
    "        }\n",
    "      ]\n",
    "    }\n",
    "  }\n",
    "}\n",
    "```"
   ]
  },
  {
   "cell_type": "markdown",
   "metadata": {},
   "source": [
    "### Result: 2. Geo Shape of area: Stuttgart west, area around the street Bebelstraße\n",
    "```\n",
    "{\n",
    "  \"geo_polygon\": {\n",
    "    \"ignore_unmapped\": true,\n",
    "    \"geo_location\": {\n",
    "      \"points\": [\n",
    "        {\n",
    "          \"lat\": 48.77106844897414,\n",
    "          \"lon\": 9.151782989501955\n",
    "        },\n",
    "        {\n",
    "          \"lat\": 48.77265233842162,\n",
    "          \"lon\": 9.15538787841797\n",
    "        },\n",
    "        {\n",
    "          \"lat\": 48.78068415138507,\n",
    "          \"lon\": 9.164314270019533\n",
    "        },\n",
    "        {\n",
    "          \"lat\": 48.783568502957735,\n",
    "          \"lon\": 9.155559539794924\n",
    "        },\n",
    "        {\n",
    "          \"lat\": 48.77615934438715,\n",
    "          \"lon\": 9.148778915405275\n",
    "        }\n",
    "      ]\n",
    "    }\n",
    "  }\n",
    "}\n",
    "```"
   ]
  },
  {
   "cell_type": "markdown",
   "metadata": {},
   "source": [
    "### Result: 3. Geo Shape of area: Stuttgart east, area around the street Neckartor\n",
    "```\n",
    "{\n",
    "  \"geo_polygon\": {\n",
    "    \"ignore_unmapped\": true,\n",
    "    \"geo_location\": {\n",
    "      \"points\": [\n",
    "        {\n",
    "          \"lat\": 48.785774071728454,\n",
    "          \"lon\": 9.187574386596681\n",
    "        },\n",
    "        {\n",
    "          \"lat\": 48.78990218352415,\n",
    "          \"lon\": 9.194955825805666\n",
    "        },\n",
    "        {\n",
    "          \"lat\": 48.7899587306429,\n",
    "          \"lon\": 9.201908111572267\n",
    "        },\n",
    "        {\n",
    "          \"lat\": 48.78718784688117,\n",
    "          \"lon\": 9.201478958129885\n",
    "        },\n",
    "        {\n",
    "          \"lat\": 48.782776736678855,\n",
    "          \"lon\": 9.19735908508301\n",
    "        },\n",
    "        {\n",
    "          \"lat\": 48.78192840180478,\n",
    "          \"lon\": 9.190578460693361\n",
    "        }\n",
    "      ]\n",
    "    }\n",
    "  }\n",
    "}\n",
    "```"
   ]
  },
  {
   "cell_type": "markdown",
   "metadata": {},
   "source": [
    "### Analysis: Get the unique locations of each of the areas\n",
    "\n",
    "The next task would be to idenfity the unique locations/sensor ids of those areas to fetch the related files from the luftinfo archive. To get this list the the script 'luftdaten_search_geo_data.py' has been created.\n",
    "\n",
    "<a href=\"luftdaten_search_geo_data.py\">See script luftdaten_search_geo_data.py</a>\n",
    "\n",
    "Sensor ids for the area of Stuttgart south for the sensors with fine dust values:<br>\n",
    "[219, 430, 549, 671, 673, 723, 751, 757, 1364, 2199, 2820, 8289] (12 locations) \n",
    "\n",
    "Sensor ids for the area of Stuttgart south for the sensors with weather values:<br>\n",
    "[431, 550, 672, 674, 724, 752, 758, 1365, 2200, 2821, 8290, 11462, 12323] (13 locations) \n",
    "\n",
    "Sensor ids for the area of Stuttgart west for the sensors with fine dust values:<br>\n",
    "[140, 187, 553, 576, 727, 1324, 4640, 5750, 6509, 6549, 6763, 7078, 8275, 9900, 10546] (15 locations) \n",
    "\n",
    "Sensor ids for the area of Stuttgart west for the sensors with weather values:<br>\n",
    "[141, 188, 728, 1325, 4641, 5751, 6510, 6550, 6764, 7079, 8276, 9901, 10547] (13 locations) \n",
    "\n",
    "Sensor ids for the area of Stuttgart east for the sensors with fine dust values:<br>\n",
    "[143, 217, 227, 415, 1657, 1739, 1931, 6479, 9840, 10963] (10 locations) \n",
    "\n",
    "Sensor ids for the area of Stuttgart east for the sensors with weather values:<br>\n",
    "[155, 218, 228, 416, 1658, 1740, 1932, 9841, 10964, 11286, 11934] (11 locations) \n"
   ]
  },
  {
   "cell_type": "markdown",
   "metadata": {},
   "source": [
    "### Analysis: Perform P10 and P2,5 anomaly analysis \n",
    "\n",
    "By this information, it's possible to fetch the specific data from those geologic areas.\n",
    "\n",
    "For this case the python script: <a href=\"luftdaten_index.py\">luftdaten_index.py</a> has been extended to only fetch the data for the sensor ids as researched in the section above.\n",
    "\n",
    "After indexing those sensor ids an anormaly detected with the integrated Machine Learning module in Elasticsearch the following anormalies could be detected:\n",
    "\n",
    "<img src=\"assets/luftdaten/images/luftdaten_analysis-2018-05-07_stuttgart_area_P1_P2_anormaly_analysis.png\" style=\"height: 800px; width: auto\">\n",
    "\n",
    "\n",
    "\n",
    "|time|max severity|detector|found for|influenced by|actual|typical|description|job ID|\n",
    "|---|---|---|---|---|---|---|---|---|\n",
    "|January 1st 2018|98|\tmean(P1)|\tSDS011|  \tsensor_type.keyword: SDS011|449.7|\t4.38|\t More than 100x higher|\tstuttgart-p1-p2-anormalies|\n",
    "|December 31st 2017|\t 91|\tmean(P1)|\tSDS011|  \tsensor_type.keyword: SDS011|86.3|\t4.57|\t 19x higher|\tstuttgart-p1-p2-anormalies\n",
    "|April 30th 2018|\t 87|\tmean(P1)|\tSDS011|  \tsensor_type.keyword: SDS011|23.1|\t3.35|\t 7x higher|\tstuttgart-p1-p2-anormalies\n",
    "|April 18th 2018|\t 81|\tmean(P1)|\tSDS011|  \tsensor_type.keyword: SDS011|28.9|\t9.19|\t 3x higher|\tstuttgart-p1-p2-anormalies\n",
    "|April 27th 2018|\t 81|\tmean(P1)|\tSDS011 | \tsensor_type.keyword: SDS011|16.3|\t4.48|\t 4x higher|\tstuttgart-p1-p2-anormalies|\n",
    "|May 11th 2018|\t 81|\tmean(P1)|\tSDS011|  \tsensor_type.keyword: SDS011|23.5|\t8.29|\t 3x higher|\tstuttgart-p1-p2-anormalies|\n",
    "|April 19th 2018|\t 81|\tmean(P1)|\tSDS011|  \tsensor_type.keyword: SDS011|40.3|\t14|\t 3x higher|\tstuttgart-p1-p2-anormalies|\n",
    "|February 14th 2018|\t 78|\tmean(P1)|\tSDS011|  \tsensor_type.keyword: SDS011|154.4|\t15|\t 10x higher|\tstuttgart-p1-p2-anormalies|\n",
    "|April 29th 2018|\t 77|\tmean(P1)|\tSDS011 | \tsensor_type.keyword: SDS011|21.6|\t8.39|\t 3x higher|\tstuttgart-p1-p2-anormalies|"
   ]
  },
  {
   "cell_type": "markdown",
   "metadata": {},
   "source": [
    "## Conclusion\n",
    "\n",
    "The data of luftdaten.info are most valuable in the following greater areas:\n",
    "\n",
    "|Prio|Area|Locations approx.|\n",
    "|---|---|---|\n",
    "|1.|Germany, Baden-Wuerttemberg|771|\n",
    "|2.|Germany, Western part of North Rhine-Westphalia|396|\n",
    "|3.|Bulgaria, Sofia|389|\n",
    "|4.|Germany, Eastern part of North Rhine-Westphalia|298|\n",
    "|5.|Germany, Bavaria, Munich|219|\n",
    "|6.|Germany, Hamburg|189|\n",
    "|7.|Germany, Berlin|185|\n",
    "|8.|Belgium|183|\n",
    "\n",
    "Moreover if a reaserch in those greater areas are performed, locations of a higher density of sensors need to be found and be researched.\n",
    "\n",
    "With this research the area of Stuttgart has been investigated. There geo shapes have been created with at least each 10 sensors with the values (reference to 4.1.3) are providing weather date and 10 other sensors providing fine dust values.\n",
    "\n",
    "Also this information was value enough to find anormaly pattern for the **P10** and **P2,5** values."
   ]
  },
  {
   "cell_type": "code",
   "execution_count": null,
   "metadata": {},
   "outputs": [],
   "source": []
  }
 ],
 "metadata": {
  "kernelspec": {
   "display_name": "Python 3",
   "language": "python",
   "name": "python3"
  },
  "language_info": {
   "codemirror_mode": {
    "name": "ipython",
    "version": 3
   },
   "file_extension": ".py",
   "mimetype": "text/x-python",
   "name": "python",
   "nbconvert_exporter": "python",
   "pygments_lexer": "ipython3",
   "version": "3.6.4"
  }
 },
 "nbformat": 4,
 "nbformat_minor": 2
}
